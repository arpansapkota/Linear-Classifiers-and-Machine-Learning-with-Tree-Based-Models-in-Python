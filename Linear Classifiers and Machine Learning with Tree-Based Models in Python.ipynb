{
 "cells": [
  {
   "cell_type": "markdown",
   "id": "82761e0f",
   "metadata": {},
   "source": [
    "# Linear Classifiers and Machine Learning with Tree-Based Models in Python"
   ]
  },
  {
   "cell_type": "markdown",
   "id": "0059a770",
   "metadata": {},
   "source": [
    "# Linear Classifiers in Python"
   ]
  },
  {
   "cell_type": "markdown",
   "id": "4c0bf631",
   "metadata": {},
   "source": [
    "This article examines common linear classification models, including descriptions of the methods as well as Python implementations. We'll go over the following strategies:"
   ]
  },
  {
   "cell_type": "markdown",
   "id": "31a6cf5e",
   "metadata": {},
   "source": [
    "Linear Discriminant Analysis\n",
    "\n",
    "Quadratic Discriminant Analysis\n",
    "\n",
    "Regularized Discriminant Analysis\n",
    "\n",
    "Logistic Regression"
   ]
  },
  {
   "cell_type": "markdown",
   "id": "19a7ef7d",
   "metadata": {},
   "source": [
    "Let’s start by importing all the packages used throughout this tutorial and loading the data."
   ]
  },
  {
   "cell_type": "code",
   "execution_count": 8,
   "id": "05ec7e81",
   "metadata": {},
   "outputs": [],
   "source": [
    "# Import necessary modules\n",
    "import numpy as np\n",
    "import pandas as pd\n",
    "\n",
    "from sklearn.model_selection import train_test_split\n",
    "from sklearn.metrics import accuracy_score\n",
    "\n",
    "from sklearn.discriminant_analysis import LinearDiscriminantAnalysis\n",
    "from sklearn.discriminant_analysis import QuadraticDiscriminantAnalysis\n",
    "from sklearn.linear_model import LogisticRegression\n",
    "\n",
    "# Load data and split in train and test sets\n",
    "spam_data = pd.read_csv('spam.txt', header=None)\n",
    "X_train, X_test, y_train, y_test = train_test_split(spam_data.iloc[:, :-1], \n",
    "                                                    spam_data.iloc[:, -1], \n",
    "                                                    test_size=0.2,\n",
    "                                                    random_state=42)"
   ]
  },
  {
   "cell_type": "markdown",
   "id": "4f7149ba",
   "metadata": {},
   "source": [
    "Linear Discriminant Analysis"
   ]
  },
  {
   "cell_type": "markdown",
   "id": "0d6795f0",
   "metadata": {},
   "source": [
    "The Linear Discriminant Analysis is the first method to be discussed (LDA). It is assumed that the joint density of all features is a multivariate Gaussian, conditional on the target's class."
   ]
  },
  {
   "cell_type": "markdown",
   "id": "040d85de",
   "metadata": {},
   "source": [
    "The hyperplane on which the chance of belonging to either class is the same is the decision boundary between two classes, say k and l. This indicates that the difference between the two densities (and thus the log-odds ratio between them) should be zero on this hyperplane.\n",
    "\n",
    "The fact that the Gaussians for various classes share the same covariance matrix is an essential assumption in LDA, therefore the subscript k from _k in the formula above can be removed. This assumption is useful for calculating the log-odds ratio since it cancels out the normalization factors and the quadratic components of the exponent. This results in a linear decision boundary between k and l in X:"
   ]
  },
  {
   "cell_type": "markdown",
   "id": "f2a6994d",
   "metadata": {},
   "source": [
    "Note that LDA has no hyperparameters to tune. It takes just a few lines of code to apply it to the spam data."
   ]
  },
  {
   "cell_type": "markdown",
   "id": "dab913a8",
   "metadata": {},
   "source": [
    "Quadratic Discriminant Analysis"
   ]
  },
  {
   "cell_type": "markdown",
   "id": "133af49b",
   "metadata": {},
   "source": [
    "The assumption made by LDA that the Gaussians for different classes have the same covariance matrix is handy, but it may be inaccurate for specific data. The left column in the image below compares how LDA works with data from multivariate Gaussians with a shared covariance matrix (upper panel) vs data from distinct classes with different covariances (bottom panel) (lower panel)."
   ]
  },
  {
   "cell_type": "markdown",
   "id": "d24cae41",
   "metadata": {},
   "source": [
    "As a result, the common covariance assumption may need to be relaxed. There are k covariance matrices to be computed in this scenario, not one. When there are a lot of characteristics, the number of parameters in the model might quickly grow out of control. The quadratic terms in the exponents of the Guassians, on the other hand, no longer cancel out, and the decision boundaries are quadratic in X, providing the model more flexibility: see the diagram above. Quadratic Discriminant Analysis is the name given to this method (QDA)"
   ]
  },
  {
   "cell_type": "code",
   "execution_count": null,
   "id": "ca4e63d2",
   "metadata": {},
   "outputs": [],
   "source": [
    "qda_model = QuadraticDiscriminantAnalysis()\n",
    "qda_preds = qda_model.fit(X_train, y_train).predict(X_test)\n",
    "qda_acc = accuracy_score(y_test,qda_preds)\n",
    "print('QDA Accuracy: {}'.format(qda_acc))"
   ]
  },
  {
   "cell_type": "markdown",
   "id": "ea13e826",
   "metadata": {},
   "source": [
    "Regularized Discriminant Analysis"
   ]
  },
  {
   "cell_type": "markdown",
   "id": "9fdbbcbf",
   "metadata": {},
   "source": [
    "Linear classifiers, like linear regression models, can be regularized to increase accuracy. A shrinkage parameter can be used to combine the individual QDA covariance matrices into a single LDA matrix:"
   ]
  },
  {
   "cell_type": "markdown",
   "id": "9188d1f5",
   "metadata": {},
   "source": [
    "Any value in between is a compromise between the two methodologies. The shrinkage parameter can take values ranging from 0 (LDA) to 1 (QDA). Cross-validation can be used to determine the optimum value of. In Python, we must supply the shrinkage option to the LDA function, as well as specify least squares as the computing technique, as other computation methods do not support shrinkage."
   ]
  },
  {
   "cell_type": "code",
   "execution_count": null,
   "id": "e2c9ab90",
   "metadata": {},
   "outputs": [],
   "source": [
    "rda_model = LinearDiscriminantAnalysis(solver='lsqr', shrinkage='auto')\n",
    "rda_preds = rda_model.fit(X_train, y_train).predict(X_test)\n",
    "rda_acc = accuracy_score(y_test, rda_preds)\n",
    "print('RDA Accuracy: {}'.format(rda_acc))"
   ]
  },
  {
   "cell_type": "markdown",
   "id": "be58ff74",
   "metadata": {},
   "source": [
    "Logistic Regression"
   ]
  },
  {
   "cell_type": "markdown",
   "id": "d322e514",
   "metadata": {},
   "source": [
    "The logistic regression model, which, despite its name, is a classification rather than a regression method, is another approach to linear classification. Logistic regression uses linear functions to describe the odds of an observation belonging to each of the K classes, ensuring that the probabilities add to one and remain in the (0, 1) range. The model is defined in terms of K-1 log-odds ratios, with an arbitrary reference class chosen (in this example it is the last class, K). "
   ]
  },
  {
   "cell_type": "markdown",
   "id": "5d0cb31a",
   "metadata": {},
   "source": [
    "Maximum likelihood is used to estimate logistic regression models, which is handled by scikit-learn. Logistic regression, like linear regression models, can be regularized to increase accuracy. In fact, scikit-default learn's value is L2 penalty. It also supports L1 and Elastic Net penalties (for more information, see the link above), albeit not all solvers support all of them. The documentation for logistic regression in Scikit-learn goes into great detail about it."
   ]
  },
  {
   "cell_type": "markdown",
   "id": "7cdeafed",
   "metadata": {},
   "source": [
    "Although logistic regression is most commonly used as an inference tool in tasks where the goal is to understand the role of input variables in explaining the outcome (it produces easily interpretable coefficients, just like linear regression), it can also be a powerful predictor, as the example below shows."
   ]
  },
  {
   "cell_type": "code",
   "execution_count": null,
   "id": "684d6693",
   "metadata": {},
   "outputs": [],
   "source": [
    "logreg_model = LogisticRegression()\n",
    "logreg_preds = logreg_model.fit(X_train, y_train).predict(X_test)\n",
    "logreg_acc = accuracy_score(y_test, logreg_preds)\n",
    "print('Logistic Regression Accuracy: {}'.format(logreg_acc))"
   ]
  },
  {
   "cell_type": "markdown",
   "id": "f729391e",
   "metadata": {},
   "source": [
    "# Machine Learning with Tree-Based Models in Python"
   ]
  },
  {
   "cell_type": "markdown",
   "id": "927b1416",
   "metadata": {},
   "source": [
    "One of the greatest and most widely used supervised learning approaches is tree-based algorithms. Tree-based algorithms provide great accuracy, stability, and interpretability to prediction models. They map non-linear interactions pretty well, unlike linear models. They can adjust to any situation and solve any challenge (classification or regression).\n",
    "\n",
    "In many kinds of data science challenges, methods including decision trees, random forests, and gradient boosting are often used. As a result, every analyst (including newcomers) should master these algorithms and apply them to modeling."
   ]
  },
  {
   "cell_type": "markdown",
   "id": "40bb0906",
   "metadata": {},
   "source": [
    "Regression Trees and Classification Trees\n",
    "CART stands for Classification and Regression Trees and is a set of supervised learning models for classification and regression issues."
   ]
  },
  {
   "cell_type": "markdown",
   "id": "616128cd",
   "metadata": {},
   "source": [
    "Classification Tree"
   ]
  },
  {
   "cell_type": "markdown",
   "id": "14853aae",
   "metadata": {},
   "source": [
    "A series of if-else questions regarding specific features is used to learn patterns from the data, resulting in the purest leafs possible.\n",
    "At the end of the day, one class-label dominates each leaf."
   ]
  },
  {
   "cell_type": "markdown",
   "id": "404bcbb2",
   "metadata": {},
   "source": [
    "Decision Regions\n",
    "\n",
    "Decision region: region in the feature space where all instances are assigned to one class label.\n",
    "Decision Boundary: surface separating different decision regions.\n",
    "Linear boundary\n",
    "Non-linear boundary"
   ]
  },
  {
   "cell_type": "code",
   "execution_count": null,
   "id": "f1f833cf",
   "metadata": {},
   "outputs": [],
   "source": [
    "# Import DecisionTreeClassifier from sklearn.tree\n",
    "from sklearn.tree import DecisionTreeClassifier\n",
    "\n",
    "# Import accuracy_score\n",
    "from sklearn.metrics import accuracy_score\n",
    "\n",
    "# Instantiate a DecisionTreeClassifier 'dt' with a maximum depth of 6\n",
    "dt = DecisionTreeClassifier(max_depth = 6, random_state = 1)\n",
    "\n",
    "# Fit dt to the training set\n",
    "dt.fit(X_train, y_train)\n",
    "\n",
    "# Predict test set labels\n",
    "y_pred = dt.predict(X_test)\n",
    "print(y_pred[0:5])\n",
    "\n",
    "# Compute test set accuracy  \n",
    "acc = accuracy_score(y_test, y_pred)\n",
    "print(\"Test set accuracy: {:.2f}\".format(acc))"
   ]
  },
  {
   "cell_type": "markdown",
   "id": "5536d430",
   "metadata": {},
   "source": [
    "Information Gain"
   ]
  },
  {
   "cell_type": "markdown",
   "id": "042078c2",
   "metadata": {},
   "source": [
    "The nodes of a classification tree are grown recursively: the obtention of an internal node or a leaf depends on the state of its predecessors.\n",
    "\n",
    "To produce the purest leaves possible, at each node, a tree asks a question involving one feature f and a split-point sp.\n",
    "\n",
    "But how does it know which feature and which split-point to pick? It does so by maximizing information gain, i.e. maxmize IG(node)\n",
    "\n",
    "If it is a unconstrained tree and the IG(node) = 0, declare the node a leaf.\n",
    "\n",
    "If it is a constrained tree, like the max_depth was set to 2, then it will stop at the set depth no matter the value of the IG(node).\n",
    "\n",
    "The tree considers that every node contains information and aims at maximizing the information gain obtained after each split."
   ]
  },
  {
   "cell_type": "code",
   "execution_count": null,
   "id": "a0f936f4",
   "metadata": {},
   "outputs": [],
   "source": [
    "# Import DecisionTreeClassifier from sklearn.tree\n",
    "from sklearn.tree import DecisionTreeClassifier\n",
    "\n",
    "# Instantiate dt_entropy, set 'entropy' as the information criterion\n",
    "dt_entropy = DecisionTreeClassifier(max_depth = 8, criterion = 'entropy', random_state = 1)\n",
    "\n",
    "# Fit dt_entropy to the training set\n",
    "dt_entropy.fit(X_train, y_train)\n",
    "\n",
    "# Import accuracy_score from sklearn.metrics\n",
    "from sklearn.metrics import accuracy_score\n",
    "\n",
    "# Use dt_entropy to predict test set labels\n",
    "y_pred= dt_entropy.predict(X_test)\n",
    "\n",
    "# Evaluate accuracy_entropy\n",
    "accuracy_entropy = accuracy_score(y_pred, y_test)\n",
    "\n",
    "# Print accuracy_entropy\n",
    "print('Accuracy achieved by using entropy: ', accuracy_entropy)\n",
    "\n",
    "# Print accuracy_gini\n",
    "print('Accuracy achieved by using the gini index: ', accuracy_gini)"
   ]
  },
  {
   "cell_type": "markdown",
   "id": "392d3897",
   "metadata": {},
   "source": [
    "Regression Tree"
   ]
  },
  {
   "cell_type": "markdown",
   "id": "b17a28c6",
   "metadata": {},
   "source": [
    "Tree-based models help to make nonlinear predictions.\n",
    "\n",
    "When a regression tree is trained on a dataset, the impurity of a node is measured using the mean-squared error of the targets in that node."
   ]
  },
  {
   "cell_type": "markdown",
   "id": "18585387",
   "metadata": {},
   "source": [
    "The regression tree aims to discover splits that result in leaves with target values that are, on average, as near to the mean-value of the labels in that leaf as feasible.\n",
    "\n",
    "When making predictions, a new instance travels the tree until it reaches a specific leaf, at which point its target variable 'y' is computed as the average of the target variables in that leaf."
   ]
  },
  {
   "cell_type": "code",
   "execution_count": null,
   "id": "04e814db",
   "metadata": {},
   "outputs": [],
   "source": [
    "# Import DecisionTreeRegressor from sklearn.tree\n",
    "from sklearn.tree import DecisionTreeRegressor\n",
    "\n",
    "# Instantiate dt\n",
    "dt = DecisionTreeRegressor(max_depth = 8,\n",
    "             min_samples_leaf = 0.13, # stopping criteria, speficies the minimum % of dp in training set in each leaf\n",
    "            random_state = 3)\n",
    "\n",
    "# Fit dt to the training set\n",
    "dt.fit(X_train, y_train)\n",
    "\n",
    "# Import mean_squared_error from sklearn.metrics as MSE\n",
    "from sklearn.metrics import mean_squared_error as MSE\n",
    "\n",
    "# Compute y_pred\n",
    "y_pred = dt.predict(X_test)\n",
    "\n",
    "# Compute mse_dt\n",
    "mse_dt = MSE(y_test, y_pred)\n",
    "\n",
    "# Compute rmse_dt\n",
    "rmse_dt = mse_dt**(1/2)\n",
    "\n",
    "# Predict test set labels on linear regression\n",
    "y_pred_lr = lr.predict(X_test)\n",
    "\n",
    "# Compute mse_lr\n",
    "mse_lr = MSE(y_test, y_pred_lr)\n",
    "\n",
    "# Compute rmse_lr\n",
    "rmse_lr = mse_lr**(1/2)\n",
    "\n",
    "# Print rmse_lr\n",
    "print('Linear Regression test set RMSE: {:.2f}'.format(rmse_lr))\n",
    "\n",
    "# Print rmse_dt\n",
    "print('Regression Tree test set RMSE: {:.2f}'.format(rmse_dt))"
   ]
  }
 ],
 "metadata": {
  "kernelspec": {
   "display_name": "Python 3 (ipykernel)",
   "language": "python",
   "name": "python3"
  },
  "language_info": {
   "codemirror_mode": {
    "name": "ipython",
    "version": 3
   },
   "file_extension": ".py",
   "mimetype": "text/x-python",
   "name": "python",
   "nbconvert_exporter": "python",
   "pygments_lexer": "ipython3",
   "version": "3.9.10"
  }
 },
 "nbformat": 4,
 "nbformat_minor": 5
}
